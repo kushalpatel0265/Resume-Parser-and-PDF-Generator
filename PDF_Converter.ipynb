{
 "cells": [
  {
   "cell_type": "code",
   "execution_count": 1,
   "id": "a8ad1e74",
   "metadata": {},
   "outputs": [],
   "source": [
    "import re\n",
    "from PyPDF2 import PdfReader\n"
   ]
  },
  {
   "cell_type": "code",
   "execution_count": 2,
   "id": "8725ff7a",
   "metadata": {},
   "outputs": [],
   "source": [
    "def extract_text_from_pdf(pdf_file):\n",
    "    text = \"\"\n",
    "    with open(pdf_file, 'rb') as file:\n",
    "        reader = PdfReader(file)\n",
    "        for page in reader.pages:\n",
    "            text += page.extract_text()\n",
    "    return text"
   ]
  },
  {
   "cell_type": "code",
   "execution_count": 3,
   "id": "4561103c",
   "metadata": {},
   "outputs": [],
   "source": [
    "def extract_name(text):\n",
    "    # Assuming the name appears at the beginning of the resume\n",
    "    name = re.search(r'^[^\\n]+', text).group()\n",
    "    return name"
   ]
  },
  {
   "cell_type": "code",
   "execution_count": 4,
   "id": "954fbdd5",
   "metadata": {},
   "outputs": [],
   "source": [
    "def extract_skills(text):\n",
    "    # Modify the pattern to capture only the skills section\n",
    "    skills_pattern = re.compile(r'(?:skills|technologies|tools):?\\s*(.*?)(?:experience|education|projects|hackathons|achievements|$)', re.IGNORECASE | re.DOTALL)\n",
    "    skills_match = skills_pattern.search(text)\n",
    "    if skills_match:\n",
    "        return skills_match.group(1)\n",
    "    else:\n",
    "        return \"\""
   ]
  },
  {
   "cell_type": "code",
   "execution_count": 5,
   "id": "43064599",
   "metadata": {},
   "outputs": [],
   "source": [
    "def extract_experience(text):\n",
    "    # Modify the pattern to capture the complete experience section\n",
    "    experience_pattern = re.compile(r'experience:?\\s*(.*?)(?:education|projects|hackathons|achievements|$)', re.IGNORECASE | re.DOTALL)\n",
    "    experience_match = experience_pattern.search(text)\n",
    "    if experience_match:\n",
    "        return experience_match.group(1)\n",
    "    else:\n",
    "        return \"\"\n"
   ]
  },
  {
   "cell_type": "code",
   "execution_count": 6,
   "id": "8cbb3c33",
   "metadata": {},
   "outputs": [],
   "source": [
    "def extract_education(text):\n",
    "    # Modify the pattern to capture only the education section\n",
    "    education_pattern = re.compile(r'education:?\\s*(.*?)(?:projects|hackathons|achievements|$)', re.IGNORECASE | re.DOTALL)\n",
    "    education_match = education_pattern.search(text)\n",
    "    if education_match:\n",
    "        return education_match.group(1)\n",
    "    else:\n",
    "        return \"\""
   ]
  },
  {
   "cell_type": "code",
   "execution_count": 7,
   "id": "7510e19b",
   "metadata": {},
   "outputs": [],
   "source": [
    "def extract_projects(text):\n",
    "    # Modify the pattern to capture only the projects section\n",
    "    projects_pattern = re.compile(r'projects:?\\s*(.*?)(?:hackathons|achievements|Skills|$)', re.IGNORECASE | re.DOTALL)\n",
    "    projects_match = projects_pattern.search(text)\n",
    "    if projects_match:\n",
    "        return projects_match.group(1)\n",
    "    else:\n",
    "        return \"\"\n"
   ]
  },
  {
   "cell_type": "code",
   "execution_count": 8,
   "id": "3bed28bd",
   "metadata": {},
   "outputs": [],
   "source": [
    "def extract_hackathons(text):\n",
    "    # Modify the pattern to capture only the hackathons section\n",
    "    hackathons_pattern = re.compile(r'hackathons:?\\s*(.*?)(?:achievements|$)', re.IGNORECASE | re.DOTALL)\n",
    "    hackathons_match = hackathons_pattern.search(text)\n",
    "    if hackathons_match:\n",
    "        return hackathons_match.group(1)\n",
    "    else:\n",
    "        return \"\""
   ]
  },
  {
   "cell_type": "code",
   "execution_count": 9,
   "id": "421d047c",
   "metadata": {},
   "outputs": [],
   "source": [
    "def extract_achievements(text):\n",
    "    # Modify the pattern to capture only the achievements section\n",
    "    achievements_pattern = re.compile(r'achievements:?\\s*(.*?)(?:education|projects|hackathons|Work|Languages|$)', re.IGNORECASE | re.DOTALL)\n",
    "    achievements_match = achievements_pattern.search(text)\n",
    "    if achievements_match:\n",
    "        return achievements_match.group(1)\n",
    "    else:\n",
    "        return \"\""
   ]
  },
  {
   "cell_type": "code",
   "execution_count": 10,
   "id": "7e5c355f",
   "metadata": {},
   "outputs": [],
   "source": [
    "from reportlab.lib.pagesizes import letter\n",
    "from reportlab.platypus import SimpleDocTemplate, Paragraph, Spacer\n",
    "from reportlab.lib.styles import getSampleStyleSheet\n",
    "\n",
    "def create_resume_pdf(name, skills, experience, achievements, education, hackathons, projects, filename):\n",
    "    doc = SimpleDocTemplate(filename, pagesize=letter)\n",
    "    styles = getSampleStyleSheet()\n",
    "\n",
    "    # Title\n",
    "    title = \"Professional Resume\"\n",
    "    content = [Paragraph(title, styles['Title']), Spacer(1, 12)]\n",
    "\n",
    "    # Name\n",
    "    content.append(Paragraph(\"Name:\", styles['Heading2']))\n",
    "    content.append(Paragraph(name, styles['Normal']))\n",
    "    content.append(Spacer(1, 12))\n",
    "\n",
    "    # Skills\n",
    "    content.append(Paragraph(\"Skills:\", styles['Heading2']))\n",
    "    content.append(Paragraph(skills, styles['Normal']))\n",
    "    content.append(Spacer(1, 12))\n",
    "\n",
    "    # Experience\n",
    "    content.append(Paragraph(\"Experience:\", styles['Heading2']))\n",
    "    content.append(Paragraph(experience, styles['Normal']))\n",
    "    content.append(Spacer(1, 12))\n",
    "\n",
    "    # Achievements\n",
    "    content.append(Paragraph(\"Achievements:\", styles['Heading2']))\n",
    "    content.append(Paragraph(achievements, styles['Normal']))\n",
    "    content.append(Spacer(1, 12))\n",
    "\n",
    "    # Education\n",
    "    content.append(Paragraph(\"Education:\", styles['Heading2']))\n",
    "    content.append(Paragraph(education, styles['Normal']))\n",
    "    content.append(Spacer(1, 12))\n",
    "\n",
    "    # Hackathons\n",
    "    content.append(Paragraph(\"Hackathons:\", styles['Heading2']))\n",
    "    content.append(Paragraph(hackathons, styles['Normal']))\n",
    "    content.append(Spacer(1, 12))\n",
    "\n",
    "    # Projects\n",
    "    content.append(Paragraph(\"Projects:\", styles['Heading2']))\n",
    "    content.append(Paragraph(projects, styles['Normal']))\n",
    "    content.append(Spacer(1, 12))\n",
    "\n",
    "    # Build PDF\n",
    "    doc.build(content)"
   ]
  },
  {
   "cell_type": "code",
   "execution_count": 11,
   "id": "952eb872",
   "metadata": {},
   "outputs": [],
   "source": [
    "resume_file = 'Sample_Resume.pdf'  # Change this to the path of your resume PDF file\n",
    "resume_text = extract_text_from_pdf(resume_file)"
   ]
  },
  {
   "cell_type": "code",
   "execution_count": 12,
   "id": "930b3e87",
   "metadata": {},
   "outputs": [],
   "source": [
    "name = extract_name(resume_text)\n",
    "skills = extract_skills(resume_text)\n",
    "experience = extract_experience(resume_text)\n",
    "education = extract_education(resume_text)\n",
    "projects = extract_projects(resume_text)\n",
    "hackathons = extract_hackathons(resume_text)\n",
    "achievements = extract_achievements(resume_text)"
   ]
  },
  {
   "cell_type": "code",
   "execution_count": 13,
   "id": "2cd0e07a",
   "metadata": {
    "scrolled": false
   },
   "outputs": [
    {
     "name": "stdout",
     "output_type": "stream",
     "text": [
      "Achievements: - Awarded the Best Intern of the Year at [Company Name]\n",
      "- Secured 1st place in the [Hackathon Name] for developing an innovative solution\n",
      "- Published a project on GitHub that received over 100 stars and forksResume\n",
      "\n"
     ]
    }
   ],
   "source": [
    "# print(\"Name:\", name)\n",
    "# print(\"Skills:\", skills)\n",
    "# print(\"Experience:\", experience)\n",
    "# print(\"Education:\", education)\n",
    "# print(\"Projects:\", projects)\n",
    "# print(\"Hackathons:\", hackathons)\n",
    "print(\"Achievements:\",achievements)"
   ]
  },
  {
   "cell_type": "code",
   "execution_count": 14,
   "id": "66709915",
   "metadata": {},
   "outputs": [],
   "source": [
    "\n",
    "# Generate PDF\n",
    "create_resume_pdf(name, skills, experience, achievements, education, hackathons, projects, \"Converted_Resume.pdf\")"
   ]
  }
 ],
 "metadata": {
  "kernelspec": {
   "display_name": "Python 3 (ipykernel)",
   "language": "python",
   "name": "python3"
  },
  "language_info": {
   "codemirror_mode": {
    "name": "ipython",
    "version": 3
   },
   "file_extension": ".py",
   "mimetype": "text/x-python",
   "name": "python",
   "nbconvert_exporter": "python",
   "pygments_lexer": "ipython3",
   "version": "3.12.4"
  }
 },
 "nbformat": 4,
 "nbformat_minor": 5
}
